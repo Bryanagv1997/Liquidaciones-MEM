{
 "cells": [
  {
   "cell_type": "markdown",
   "metadata": {},
   "source": [
    "## Limpieza de archivo de despacho para liquidación"
   ]
  },
  {
   "cell_type": "code",
   "execution_count": 9,
   "metadata": {},
   "outputs": [],
   "source": [
    "# Llamado de librerias\n",
    "import pandas as pd\n",
    "\n",
    "df_dsp = pd.read_excel('dspcttos/dspcttos_tx2.xlsx') \n",
    "df_cliq = pd.read_excel('cliq/cliq_tx2.xlsx')\n",
    "df_dsp = df_dsp.round(2)\n"
   ]
  },
  {
   "cell_type": "code",
   "execution_count": 10,
   "metadata": {},
   "outputs": [],
   "source": [
    "# Eliminación de columnas que no son necesarrias para el despacho\n",
    "df = df_dsp.drop(['TIPO','TIPOMERC','TIPO ASIGNA'],axis=1)"
   ]
  },
  {
   "cell_type": "code",
   "execution_count": 11,
   "metadata": {},
   "outputs": [],
   "source": [
    "# Se crea lista de columnas pra seleccionar\n",
    "_desp = ['DESP_HORA {:02}'.format(i) for i in range(1,25)]\n",
    "_hora = ['TRF_HORA {:02}'.format(i) for i in range(1,25)]\n",
    "\n",
    "# Contratos de compra y venta\n",
    "Compras_Contratos = df[df['COMPRADOR'].isin(['SFEC'])]\n",
    "Ventas_Contratos = df[df['VENDEDOR'].isin(['SFEC'])]\n",
    "\n",
    "# Filtro para filtrar por el agente comercializador\n",
    "cliq= df_cliq[df_cliq['AGENTE'].isin(['SFEC'])]\n",
    "# Bolsa\n",
    "ventas_bolsa_kWh = cliq['VENTAS BOLSA kwh'].sum()\n",
    "ventas_bolsa_COP = cliq['VENTAS BOLSA $'].sum()\n",
    "compras_bolsa_kWh = cliq['COMPRAS BOLSA kwh'].sum()\n",
    "compras_bolsa_COP = -cliq['COMPRAS BOLSA $'].sum()"
   ]
  },
  {
   "cell_type": "code",
   "execution_count": 12,
   "metadata": {},
   "outputs": [
    {
     "name": "stdout",
     "output_type": "stream",
     "text": [
      " ventas en bolsa kWh/mes: 1,947,430.55\n",
      " ventas en bolsa COP/mes: $1,770,501,988.41\n",
      " compras en bolsa kWh/mes: 292.92\n",
      " compras en bolsa kWh/mes: $-273,773.93\n"
     ]
    }
   ],
   "source": [
    "# Mostrar consolidado en bolsa\n",
    "print(' ventas en bolsa kWh/mes: {:,.2f}'.format(ventas_bolsa_kWh))\n",
    "print(f' ventas en bolsa COP/mes: ${ventas_bolsa_COP:,.2f}')\n",
    "print(' compras en bolsa kWh/mes: {:,.2f}'.format(compras_bolsa_kWh))\n",
    "print(f' compras en bolsa kWh/mes: ${compras_bolsa_COP:,.2f}')"
   ]
  },
  {
   "cell_type": "code",
   "execution_count": 13,
   "metadata": {},
   "outputs": [],
   "source": [
    "#Se divide en contratos de compra y bolsa\n",
    "Compras_Contratos_kWh = Compras_Contratos.groupby(['CONTRATO','COMPRADOR','VENDEDOR'])[_desp].sum().sum(axis=1).reset_index(name='Total [kWh/mes]')\n",
    "Ventas_Contratos_kWh = Ventas_Contratos.groupby(['CONTRATO','COMPRADOR','VENDEDOR'])[_desp].sum().sum(axis=1).reset_index(name='Total [kWh/mes]')"
   ]
  },
  {
   "cell_type": "code",
   "execution_count": 14,
   "metadata": {},
   "outputs": [
    {
     "name": "stderr",
     "output_type": "stream",
     "text": [
      "/tmp/ipykernel_17270/2882684825.py:2: DeprecationWarning: DataFrameGroupBy.apply operated on the grouping columns. This behavior is deprecated, and in a future version of pandas the grouping columns will be excluded from the operation. Either pass `include_groups=False` to exclude the groupings or explicitly select the grouping columns after groupby to silence this warning.\n",
      "  Compras_Contratos_COP = Compras_Contratos.groupby(['CONTRATO','COMPRADOR','VENDEDOR']).apply(lambda x:(-x[_desp].values*x[_hora].values).sum()).reset_index(name='Total [COP]')\n",
      "/tmp/ipykernel_17270/2882684825.py:3: DeprecationWarning: DataFrameGroupBy.apply operated on the grouping columns. This behavior is deprecated, and in a future version of pandas the grouping columns will be excluded from the operation. Either pass `include_groups=False` to exclude the groupings or explicitly select the grouping columns after groupby to silence this warning.\n",
      "  Ventas_Contratos_COP = Ventas_Contratos.groupby(['CONTRATO','COMPRADOR','VENDEDOR']).apply(lambda x:(x[_desp].values*x[_hora].values).sum()).reset_index(name='Total [COP]')\n"
     ]
    }
   ],
   "source": [
    "# Se calcula el despacho de los contratos\n",
    "Compras_Contratos_COP = Compras_Contratos.groupby(['CONTRATO','COMPRADOR','VENDEDOR']).apply(lambda x:(-x[_desp].values*x[_hora].values).sum()).reset_index(name='Total [COP]')\n",
    "Ventas_Contratos_COP = Ventas_Contratos.groupby(['CONTRATO','COMPRADOR','VENDEDOR']).apply(lambda x:(x[_desp].values*x[_hora].values).sum()).reset_index(name='Total [COP]')"
   ]
  },
  {
   "cell_type": "code",
   "execution_count": 15,
   "metadata": {},
   "outputs": [],
   "source": [
    "# Paso anterior no es necesario para el calculo pero si se quiere mostar tablas diferentes (compras y ventas) es un buen ejercicio\n",
    "Compras = pd.merge(Compras_Contratos_kWh,Compras_Contratos_COP,on=['CONTRATO','COMPRADOR','VENDEDOR'],how='inner')\n",
    "Ventas = pd.merge(Ventas_Contratos_kWh,Ventas_Contratos_COP,on=['CONTRATO','COMPRADOR','VENDEDOR'],how='inner')\n",
    "\n",
    "Compras_COP=Compras['Total [COP]'].sum()\n",
    "ventas_COP=Ventas['Total [COP]'].sum()\n",
    "\n",
    "Compras_kwh=Compras['Total [kWh/mes]'].sum()\n",
    "ventas_kwh=Ventas['Total [kWh/mes]'].sum()\n",
    "\n",
    "# Se realiza un consolidado completo de todos los contratos del comercializador\n",
    "totales = pd.DataFrame([['VENTAS BOLSA','','SFEC',ventas_bolsa_kWh,ventas_bolsa_COP],['VENTAS TOTALES','-','SFEC',ventas_kwh + ventas_bolsa_kWh,ventas_COP+ventas_bolsa_COP]],columns=Ventas.columns)\n",
    "resultado_contratos = pd.concat([Ventas,totales])\n",
    "totales = pd.DataFrame([['COMPRAS BOLSA','SFEC','-',compras_bolsa_kWh,compras_bolsa_COP],['COMPRAS TOTALES','SFEC','-',Compras_kwh + compras_bolsa_kWh,Compras_COP+compras_bolsa_COP]],columns=Ventas.columns)\n",
    "resultado_contratos = pd.concat([resultado_contratos,Compras])\n",
    "resultado_contratos = pd.concat([resultado_contratos,totales])\n",
    "totales = pd.DataFrame([['MARGEN TOTAL','-','-',Compras_kwh+compras_bolsa_kWh,ventas_COP+ventas_bolsa_COP+Compras_COP+compras_bolsa_COP]],columns=Ventas.columns)\n",
    "resultado_contratos = pd.concat([resultado_contratos,totales])\n",
    "resultado_contratos['Total [kWh/mes]'] = resultado_contratos['Total [kWh/mes]'].apply(lambda x: f'{x:,.2f}')\n",
    "resultado_contratos['Total [COP]'] = resultado_contratos['Total [COP]'].apply(lambda x: f'${x:,.2f}')"
   ]
  },
  {
   "cell_type": "code",
   "execution_count": 16,
   "metadata": {},
   "outputs": [],
   "source": [
    "import matplotlib.pyplot as plt\n",
    "\n",
    "def crear_tabla_imagen(dataframe, nombre_archivo):\n",
    "    fig, ax = plt.subplots(figsize=(10, 2))\n",
    "    ax.axis('tight')\n",
    "    ax.axis('off')\n",
    "    \n",
    "    # Crear la tabla\n",
    "    tabla = ax.table(cellText=dataframe.values, colLabels=dataframe.columns, cellLoc='center', loc='center')\n",
    "    tabla.auto_set_font_size(False)\n",
    "    tabla.set_fontsize(9)\n",
    "\n",
    "    # Establecer el formato de los títulos\n",
    "    for (i, j), cell in tabla.get_celld().items():\n",
    "        if i == 0 or i == len(dataframe) or i==len(Compras)+1 or i == len(dataframe)-1:  # Títulos\n",
    "            cell.set_text_props(fontweight='bold', color='black')\n",
    "        else:\n",
    "            cell.set_text_props(fontweight='normal', color='black')\n",
    "\n",
    "    # Guardar la tabla como imagen\n",
    "    plt.savefig(nombre_archivo, bbox_inches='tight', dpi=500)\n",
    "    plt.close()\n",
    "\n",
    "# Crear imagen de la tabla\n",
    "crear_tabla_imagen(resultado_contratos, 'tabla_liquidacion.png')"
   ]
  },
  {
   "cell_type": "code",
   "execution_count": 17,
   "metadata": {},
   "outputs": [
    {
     "data": {
      "text/plain": [
       "'1,804,238,308.75'"
      ]
     },
     "execution_count": 17,
     "metadata": {},
     "output_type": "execute_result"
    }
   ],
   "source": [
    "fin_mes =((ventas_COP+ventas_bolsa_COP+Compras_COP+compras_bolsa_COP)/len(cliq))*30\n",
    "# Total del fin de mes en COP de balance o consolidado del comercializador\n",
    "f'{fin_mes:,.2f}'"
   ]
  }
 ],
 "metadata": {
  "kernelspec": {
   "display_name": "venv",
   "language": "python",
   "name": "python3"
  },
  "language_info": {
   "codemirror_mode": {
    "name": "ipython",
    "version": 3
   },
   "file_extension": ".py",
   "mimetype": "text/x-python",
   "name": "python",
   "nbconvert_exporter": "python",
   "pygments_lexer": "ipython3",
   "version": "3.10.12"
  }
 },
 "nbformat": 4,
 "nbformat_minor": 2
}
